{
 "cells": [
  {
   "cell_type": "markdown",
   "metadata": {},
   "source": [
    "Description of observations:\n",
    "\n",
    "1) Fox news is the most neutral when it comes to tweeting. very surprising.\n",
    "\n",
    "2) BBC has the most positive tweets.\n",
    "\n",
    "3) NYT has the most negative tweets"
   ]
  },
  {
   "cell_type": "code",
   "execution_count": 1,
   "metadata": {},
   "outputs": [],
   "source": [
    "#!pip install VaderSentiment"
   ]
  },
  {
   "cell_type": "code",
   "execution_count": 1,
   "metadata": {},
   "outputs": [],
   "source": [
    "import tweepy \n",
    "import json\n",
    "import os\n",
    "import pandas as pd\n",
    "import numpy as np\n",
    "import matplotlib.pyplot as plt\n",
    "from vaderSentiment.vaderSentiment import SentimentIntensityAnalyzer\n",
    "analyzer = SentimentIntensityAnalyzer()"
   ]
  },
  {
   "cell_type": "code",
   "execution_count": 2,
   "metadata": {},
   "outputs": [
    {
     "data": {
      "text/plain": [
       "'C:\\\\Users\\\\c00778\\\\gwu-arl-data-pt-03-2020-u-c\\\\02-Homework\\\\06-Python-APIs\\\\Twitter-API-Instructions'"
      ]
     },
     "execution_count": 2,
     "metadata": {},
     "output_type": "execute_result"
    }
   ],
   "source": [
    "original_working_directory = os.getcwd()\n",
    "original_working_directory"
   ]
  },
  {
   "cell_type": "code",
   "execution_count": 3,
   "metadata": {},
   "outputs": [],
   "source": [
    "os.chdir(os.path.join('..','..','..'))"
   ]
  },
  {
   "cell_type": "code",
   "execution_count": 4,
   "metadata": {},
   "outputs": [
    {
     "data": {
      "text/plain": [
       "'C:\\\\Users\\\\c00778\\\\gwu-arl-data-pt-03-2020-u-c'"
      ]
     },
     "execution_count": 4,
     "metadata": {},
     "output_type": "execute_result"
    }
   ],
   "source": [
    "new_working_dir = os.getcwd()\n",
    "new_working_dir"
   ]
  },
  {
   "cell_type": "code",
   "execution_count": 5,
   "metadata": {},
   "outputs": [],
   "source": [
    "from config import consumer_key,consumer_secret,access_token,access_token_secret"
   ]
  },
  {
   "cell_type": "code",
   "execution_count": 6,
   "metadata": {},
   "outputs": [],
   "source": [
    "auth = tweepy.OAuthHandler(consumer_key, consumer_secret)\n",
    "auth.set_access_token(access_token, access_token_secret)\n",
    "api = tweepy.API(auth)"
   ]
  },
  {
   "cell_type": "code",
   "execution_count": 7,
   "metadata": {},
   "outputs": [],
   "source": [
    "user_account = ['BBC','CBSNews','CNN','FoxNews','nytimes']\n",
    "\n",
    "tweet_list = []\n",
    "\n",
    "name = []\n",
    "tweet_id = []\n",
    "favorite_count = []\n",
    "full_text = []\n",
    "date_time = []\n",
    "\n",
    "for agency in user_account:\n",
    "    public_tweets = tweepy.Cursor(api.user_timeline, agency, tweet_mode='extended').items(100)\n",
    "    for tweet in public_tweets:\n",
    "        tweet_list.append(tweet)"
   ]
  },
  {
   "cell_type": "code",
   "execution_count": 8,
   "metadata": {},
   "outputs": [],
   "source": [
    "for tweet in tweet_list:\n",
    "    tweet_id.append(tweet.id)\n",
    "    favorite_count.append(tweet.favorite_count)\n",
    "    full_text.append(tweet.full_text)\n",
    "    name.append(tweet.author.name)\n",
    "    date_time.append(tweet.created_at)"
   ]
  },
  {
   "cell_type": "code",
   "execution_count": 9,
   "metadata": {},
   "outputs": [],
   "source": [
    "tweets_df = pd.DataFrame({\n",
    "    'Tweet ID': tweet_id,\n",
    "    'name':name,\n",
    "    'date&time':date_time,\n",
    "    'Tweet Text': full_text,\n",
    "    'Favorite Count': favorite_count    \n",
    "    })"
   ]
  },
  {
   "cell_type": "code",
   "execution_count": 10,
   "metadata": {},
   "outputs": [
    {
     "data": {
      "text/html": [
       "<div>\n",
       "<style scoped>\n",
       "    .dataframe tbody tr th:only-of-type {\n",
       "        vertical-align: middle;\n",
       "    }\n",
       "\n",
       "    .dataframe tbody tr th {\n",
       "        vertical-align: top;\n",
       "    }\n",
       "\n",
       "    .dataframe thead th {\n",
       "        text-align: right;\n",
       "    }\n",
       "</style>\n",
       "<table border=\"1\" class=\"dataframe\">\n",
       "  <thead>\n",
       "    <tr style=\"text-align: right;\">\n",
       "      <th></th>\n",
       "      <th>Tweet ID</th>\n",
       "      <th>name</th>\n",
       "      <th>date&amp;time</th>\n",
       "      <th>Tweet Text</th>\n",
       "      <th>Favorite Count</th>\n",
       "    </tr>\n",
       "  </thead>\n",
       "  <tbody>\n",
       "    <tr>\n",
       "      <th>0</th>\n",
       "      <td>1264224821493157890</td>\n",
       "      <td>BBC</td>\n",
       "      <td>2020-05-23 16:01:00</td>\n",
       "      <td>#FindingDory = perfect weekend film!   🙌🐠\\n\\n6...</td>\n",
       "      <td>32</td>\n",
       "    </tr>\n",
       "    <tr>\n",
       "      <th>1</th>\n",
       "      <td>1264209722007343104</td>\n",
       "      <td>BBC</td>\n",
       "      <td>2020-05-23 15:01:00</td>\n",
       "      <td>We hope this brings you some much needed tranq...</td>\n",
       "      <td>67</td>\n",
       "    </tr>\n",
       "    <tr>\n",
       "      <th>2</th>\n",
       "      <td>1264179523194703872</td>\n",
       "      <td>BBC</td>\n",
       "      <td>2020-05-23 13:01:00</td>\n",
       "      <td>\"If any good can come of me sharing my experie...</td>\n",
       "      <td>33</td>\n",
       "    </tr>\n",
       "    <tr>\n",
       "      <th>3</th>\n",
       "      <td>1264176066379296768</td>\n",
       "      <td>BBC</td>\n",
       "      <td>2020-05-23 12:47:16</td>\n",
       "      <td>RT @BBCTheOneShow: In support of #MentalHealth...</td>\n",
       "      <td>0</td>\n",
       "    </tr>\n",
       "    <tr>\n",
       "      <th>4</th>\n",
       "      <td>1264164423763025920</td>\n",
       "      <td>BBC</td>\n",
       "      <td>2020-05-23 12:01:00</td>\n",
       "      <td>Israeli investors develop face mask with remot...</td>\n",
       "      <td>44</td>\n",
       "    </tr>\n",
       "  </tbody>\n",
       "</table>\n",
       "</div>"
      ],
      "text/plain": [
       "              Tweet ID name           date&time  \\\n",
       "0  1264224821493157890  BBC 2020-05-23 16:01:00   \n",
       "1  1264209722007343104  BBC 2020-05-23 15:01:00   \n",
       "2  1264179523194703872  BBC 2020-05-23 13:01:00   \n",
       "3  1264176066379296768  BBC 2020-05-23 12:47:16   \n",
       "4  1264164423763025920  BBC 2020-05-23 12:01:00   \n",
       "\n",
       "                                          Tweet Text  Favorite Count  \n",
       "0  #FindingDory = perfect weekend film!   🙌🐠\\n\\n6...              32  \n",
       "1  We hope this brings you some much needed tranq...              67  \n",
       "2  \"If any good can come of me sharing my experie...              33  \n",
       "3  RT @BBCTheOneShow: In support of #MentalHealth...               0  \n",
       "4  Israeli investors develop face mask with remot...              44  "
      ]
     },
     "execution_count": 10,
     "metadata": {},
     "output_type": "execute_result"
    }
   ],
   "source": [
    "tweets_df.head()"
   ]
  },
  {
   "cell_type": "code",
   "execution_count": 11,
   "metadata": {},
   "outputs": [],
   "source": [
    "base_name = tweets_df.loc[0,'name']\n",
    "counter = 0 \n",
    "\n",
    "for index, tweet_row in tweets_df.iterrows():  \n",
    "    if tweet_row['name'] == base_name:\n",
    "        tweets_df.loc[index,'tweets_ago'] = counter\n",
    "        counter +=1\n",
    "    if tweet_row['name'] != base_name:\n",
    "        counter = 0    \n",
    "        tweets_df.loc[index,'tweets_ago'] = counter\n",
    "        base_name = tweet_row['name']\n",
    "        counter +=1\n",
    "        "
   ]
  },
  {
   "cell_type": "code",
   "execution_count": 12,
   "metadata": {},
   "outputs": [],
   "source": [
    "for index, row in tweets_df.iterrows():\n",
    "    tweet = row['Tweet Text']\n",
    "    results = analyzer.polarity_scores(f'{tweet}')\n",
    "    tweets_df.loc[index,'compound'] = results['compound']\n",
    "    tweets_df.loc[index, 'positive'] = results['pos']\n",
    "    tweets_df.loc[index,'neutral'] = results['neu']\n",
    "    tweets_df.loc[index,'negative'] = results['neg']   \n",
    "    "
   ]
  },
  {
   "cell_type": "code",
   "execution_count": 18,
   "metadata": {},
   "outputs": [],
   "source": [
    "tweets_df.to_csv('tweets_df.csv')"
   ]
  },
  {
   "cell_type": "code",
   "execution_count": 19,
   "metadata": {},
   "outputs": [
    {
     "data": {
      "image/png": "[encoded data removed]",
      "text/plain": [
       "<Figure size 432x288 with 1 Axes>"
      ]
     },
     "metadata": {
      "needs_background": "light"
     },
     "output_type": "display_data"
    }
   ],
   "source": [
    "x = tweets_df.iloc[0:100,5]\n",
    "\n",
    "bbc_points = tweets_df['name'] == 'BBC'\n",
    "cnn_points = tweets_df['name'] == 'CNN'\n",
    "cbs_points = tweets_df['name'] == 'CBS News'\n",
    "fox_points = tweets_df['name'] == 'Fox News'\n",
    "nyt_points = tweets_df['name'] == 'The New York Times'\n",
    "\n",
    "bbc = tweets_df.loc[bbc_points]\n",
    "cnn = tweets_df.loc[cnn_points]\n",
    "cbs = tweets_df.loc[cbs_points]\n",
    "fox = tweets_df.loc[fox_points]\n",
    "nyt = tweets_df.loc[nyt_points]\n",
    "\n",
    "\n",
    "bbc = bbc['compound']\n",
    "cnn = cnn['compound']\n",
    "cbs = cbs['compound']\n",
    "fox = fox['compound']\n",
    "nyt = nyt['compound']\n",
    "\n",
    "plt.scatter(x,bbc,color='blue')\n",
    "plt.scatter(x,fox,color='red')\n",
    "plt.scatter(x,cnn,color='green')\n",
    "plt.scatter(x,cbs,color='orange')\n",
    "plt.scatter(x,nyt,color='black')\n",
    "\n",
    "plt.title('Sentiment Analysis of Media Tweets')\n",
    "plt.xlabel('Tweet Polarity')\n",
    "plt.xlim(100,0)\n",
    "plt.ylabel('Tweets ago')\n",
    "\n",
    "plt.grid(True)\n",
    "plt.savefig('sentiment_scatter.png')"
   ]
  },
  {
   "cell_type": "code",
   "execution_count": 20,
   "metadata": {},
   "outputs": [],
   "source": [
    "grpby_name = tweets_df.groupby(['name'])\n",
    "mean_df = grpby_name.mean()\n",
    "mean_df = mean_df.reset_index()\n",
    "mean_df.iloc[1,0] = 'CBS'\n",
    "mean_df.iloc[3,0] = 'Fox'\n",
    "mean_df.iloc[4,0] = 'NYT'"
   ]
  },
  {
   "cell_type": "code",
   "execution_count": 21,
   "metadata": {},
   "outputs": [
    {
     "data": {
      "image/png": "[encoded data removed]",
      "text/plain": [
       "<Figure size 432x288 with 1 Axes>"
      ]
     },
     "metadata": {
      "needs_background": "light"
     },
     "output_type": "display_data"
    }
   ],
   "source": [
    "x = mean_df['name']\n",
    "y = mean_df['compound']\n",
    "\n",
    "plt.bar(x,y)\n",
    "plt.xlabel('News Agency')\n",
    "plt.ylabel('Tweet Polarity')\n",
    "plt.title('Over all Media Sentiment based on Tweeter')\n",
    "\n",
    "\n",
    "plt.savefig('sentiment_barchart.png')"
   ]
  },
  {
   "cell_type": "code",
   "execution_count": null,
   "metadata": {},
   "outputs": [],
   "source": []
  }
 ],
 "metadata": {
  "kernelspec": {
   "display_name": "Python 3",
   "language": "python",
   "name": "python3"
  },
  "language_info": {
   "codemirror_mode": {
    "name": "ipython",
    "version": 3
   },
   "file_extension": ".py",
   "mimetype": "text/x-python",
   "name": "python",
   "nbconvert_exporter": "python",
   "pygments_lexer": "ipython3",
   "version": "3.7.6"
  }
 },
 "nbformat": 4,
 "nbformat_minor": 4
}
